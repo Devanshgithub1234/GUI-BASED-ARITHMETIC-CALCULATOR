{
 "cells": [
  {
   "cell_type": "code",
   "execution_count": null,
   "id": "0b9ff0b3",
   "metadata": {},
   "outputs": [],
   "source": [
    "from tkinter import*\n",
    "from tkinter import messagebox"
   ]
  },
  {
   "cell_type": "code",
   "execution_count": null,
   "id": "3cde7ead",
   "metadata": {},
   "outputs": [],
   "source": [
    "r = Tk()\n",
    "r.geometry(\"500x600\")\n",
    "r.title(\"CALCULATOR\")\n",
    "r.configure(bg = \"#3697f5\")"
   ]
  },
  {
   "cell_type": "code",
   "execution_count": null,
   "id": "2d1b8da0",
   "metadata": {},
   "outputs": [],
   "source": [
    "equation = \" \"\n",
    "    \n",
    "def show(value):\n",
    "    global equation\n",
    "    equation += value\n",
    "    label_result.config(text = equation)\n",
    "\n",
    "def clear():\n",
    "    global equation\n",
    "    equation = \" \"\n",
    "    label_result.config(text = equation)\n",
    "\n",
    "def calculate():\n",
    "    global equation\n",
    "    result = eval(equation)\n",
    "    label_result.config(text = result)"
   ]
  },
  {
   "cell_type": "code",
   "execution_count": null,
   "id": "e8ace3e2",
   "metadata": {},
   "outputs": [],
   "source": [
    "label_result = Label(r ,width = 25 , height = 2 ,text = \" \" , font = (\"arial\" , 30))\n",
    "label_result.pack()\n",
    "\n",
    "button_c = Button(r,text = \"C\" , width = 4 , height = 1 ,font = (\"arial\" , 30 , \"bold\"), bd = 1 , fg = \"#fff\" , bg = \"#3697f5\", command = lambda : clear())\n",
    "button_c.place(x = 10 ,y = 110)\n",
    "\n",
    "divide = Button(r,text = \"/\" , width = 4 , height = 1 ,font = (\"arial\" , 30 , \"bold\"), bd = 1 , fg = \"#fff\" , bg = \"#3697f5\",command = lambda : show(\"/\"))\n",
    "divide.place(x = 130 , y = 110)\n",
    "\n",
    "percentage = Button(r,text = \"%\" , width = 4 , height = 1 ,font = (\"arial\" , 30 , \"bold\"), bd = 1 , fg = \"#fff\" , bg = \"#3697f5\",command = lambda : show(\"%\"))\n",
    "percentage.place(x = 250 ,y = 110)\n",
    "\n",
    "multiply = Button(r,text = \"*\" , width = 4 , height = 1 ,font = (\"arial\" , 30 , \"bold\"), bd = 1 , fg = \"#fff\" , bg = \"#3697f5\",command = lambda : show(\"*\"))\n",
    "multiply.place(x = 370 , y = 110)\n",
    "\n",
    "button_7 = Button(r,text = \"7\" , width = 4 , height = 1 ,font = (\"arial\" , 30 , \"bold\"), bd = 1 , fg = \"#fff\" , bg = \"#3697f5\",command = lambda : show(\"7\"))\n",
    "button_7.place(x = 10 ,y = 200)\n",
    "\n",
    "button_8 = Button(r,text = \"8\" , width = 4 , height = 1 ,font = (\"arial\" , 30 , \"bold\"), bd = 1 , fg = \"#fff\" , bg = \"#3697f5\",command = lambda : show(\"8\"))\n",
    "button_8.place(x = 130 , y = 200)\n",
    "\n",
    "button_9 = Button(r,text = \"9\" , width = 4 , height = 1 ,font = (\"arial\" , 30 , \"bold\"), bd = 1 , fg = \"#fff\" , bg = \"#3697f5\",command = lambda : show(\"9\"))\n",
    "button_9.place(x = 250 , y = 200)\n",
    "\n",
    "subtraction = Button(r,text = \"-\" , width = 4 , height = 1 ,font = (\"arial\" , 30 , \"bold\"), bd = 1 , fg = \"#fff\" , bg = \"#3697f5\", command = lambda : show(\"-\"))\n",
    "subtraction.place(x = 370 , y = 200)\n",
    "\n",
    "button_4 = Button(r,text = \"4\" , width = 4 , height = 1 ,font = (\"arial\" , 30 , \"bold\"), bd = 1 , fg = \"#fff\" , bg = \"#3697f5\", command = lambda : show(\"4\"))\n",
    "button_4.place(x = 10 , y = 300)\n",
    "\n",
    "button_5 = Button(r,text = \"5\" , width = 4 , height = 1 ,font = (\"arial\" , 30 , \"bold\"), bd = 1 , fg = \"#fff\" , bg = \"#3697f5\",command = lambda : show(\"5\"))\n",
    "button_5.place(x = 130 ,y = 300)\n",
    "\n",
    "button_6 = Button(r,text = \"6\" , width = 4 , height = 1 ,font = (\"arial\" , 30 , \"bold\"), bd = 1 , fg = \"#fff\" , bg = \"#3697f5\",command = lambda : show(\"6\"))\n",
    "button_6.place(x = 250 , y = 300)\n",
    "\n",
    "addition = Button(r,text = \"+\" , width = 4 , height = 1 ,font = (\"arial\" , 30 , \"bold\"), bd = 1 , fg = \"#fff\" , bg = \"#3697f5\",command = lambda : show(\"+\"))\n",
    "addition.place(x = 370 , y = 300)\n",
    "\n",
    "button_1 = Button(r,text = \"1\" , width = 4 , height = 1 ,font = (\"arial\" , 30 , \"bold\"), bd = 1 , fg = \"#fff\" , bg = \"#3697f5\",command = lambda : show(\"1\"))\n",
    "button_1.place(x = 10 , y = 400)\n",
    "\n",
    "button_2 = Button(r,text = \"2\" , width = 4 , height = 1 ,font = (\"arial\" , 30 , \"bold\"), bd = 1 , fg = \"#fff\" , bg = \"#3697f5\",command = lambda : show(\"2\"))\n",
    "button_2.place(x = 130 , y = 400)\n",
    "\n",
    "button_3 = Button(r,text = \"3\" , width = 4 , height = 1 ,font = (\"arial\" , 30 , \"bold\"), bd = 1 , fg = \"#fff\" , bg = \"#3697f5\",command = lambda : show(\"3\"))\n",
    "button_3.place(x = 250 , y = 400)\n",
    "\n",
    "\n",
    "equal = Button(r,text = \"=\" , width = 4 , height = 3 ,font = (\"arial\" , 30 , \"bold\"), bd = 1 , fg = \"#fff\" , bg = \"#3697f5\",command = lambda : calculate())\n",
    "equal.place(x = 370 , y = 400)\n",
    "\n",
    "button_0 = Button(r,text = \"0\" , width = 9 , height = 1 ,font = (\"arial\" , 30 , \"bold\"), bd = 1 , fg = \"#fff\" , bg = \"#3697f5\",command = lambda : show(\"0\"))\n",
    "button_0.place(x = 10 , y = 500)\n",
    "\n",
    "dot = Button(r,text = \".\" , width = 4 , height = 1 ,font = (\"arial\" , 30 , \"bold\"), bd = 1 , fg = \"#fff\" , bg = \"#3697f5\",command = lambda : show(\".\"))\n",
    "dot.place(x = 250 , y = 500)\n",
    "\n",
    "mainloop()"
   ]
  },
  {
   "cell_type": "code",
   "execution_count": null,
   "id": "e923d0f5",
   "metadata": {},
   "outputs": [],
   "source": []
  },
  {
   "cell_type": "code",
   "execution_count": null,
   "id": "c9560684",
   "metadata": {},
   "outputs": [],
   "source": []
  },
  {
   "cell_type": "code",
   "execution_count": null,
   "id": "0b78deef",
   "metadata": {},
   "outputs": [],
   "source": []
  },
  {
   "cell_type": "code",
   "execution_count": null,
   "id": "453e2cf7",
   "metadata": {},
   "outputs": [],
   "source": []
  }
 ],
 "metadata": {
  "kernelspec": {
   "display_name": "Python 3 (ipykernel)",
   "language": "python",
   "name": "python3"
  },
  "language_info": {
   "codemirror_mode": {
    "name": "ipython",
    "version": 3
   },
   "file_extension": ".py",
   "mimetype": "text/x-python",
   "name": "python",
   "nbconvert_exporter": "python",
   "pygments_lexer": "ipython3",
   "version": "3.9.12"
  }
 },
 "nbformat": 4,
 "nbformat_minor": 5
}
